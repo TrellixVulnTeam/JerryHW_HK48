{
 "cells": [
  {
   "cell_type": "markdown",
   "metadata": {},
   "source": [
    "HW1"
   ]
  },
  {
   "cell_type": "code",
   "execution_count": 37,
   "metadata": {},
   "outputs": [
    {
     "name": "stdout",
     "output_type": "stream",
     "text": [
      "insert a number50\n",
      "150\n",
      "[101, 102, 103]\n"
     ]
    }
   ],
   "source": [
    "def add100(num,func):\n",
    "    print(func(num))\n",
    "\n",
    "num = int(input('insert a number'))\n",
    "\n",
    "add100(num,lambda num: num+100)\n",
    "\n",
    "print(list(map(lambda num : num+100 , [1,2,3])))"
   ]
  },
  {
   "cell_type": "markdown",
   "metadata": {},
   "source": [
    "HW2"
   ]
  },
  {
   "cell_type": "code",
   "execution_count": 35,
   "metadata": {},
   "outputs": [
    {
     "name": "stdout",
     "output_type": "stream",
     "text": [
      "addnum: 32\n"
     ]
    },
    {
     "data": {
      "text/plain": [
       "('multiply_int', 60)"
      ]
     },
     "execution_count": 35,
     "metadata": {},
     "output_type": "execute_result"
    }
   ],
   "source": [
    "def calc(func):\n",
    "    def nf(*args , **kwargs):\n",
    "        result = func(*args,**kwargs)\n",
    "        print('addnum:',result)\n",
    "        total = 1\n",
    "        for n in args:\n",
    "            total *= n\n",
    "        return('multiply_int',total)\n",
    "    return nf\n",
    "\n",
    "@calc\n",
    "def addnum(a,b):\n",
    "    return (a+b)\n",
    "        \n",
    "addnum(2,30)"
   ]
  },
  {
   "cell_type": "markdown",
   "metadata": {},
   "source": [
    "HW3"
   ]
  },
  {
   "cell_type": "code",
   "execution_count": 40,
   "metadata": {},
   "outputs": [
    {
     "name": "stdout",
     "output_type": "stream",
     "text": [
      "insert a number256\n",
      "256\n"
     ]
    }
   ],
   "source": [
    "try:\n",
    "    x = int(input('insert a number'))\n",
    "    print(x)\n",
    "except:\n",
    "    print('出錯，請重新輸入')"
   ]
  },
  {
   "cell_type": "code",
   "execution_count": null,
   "metadata": {},
   "outputs": [],
   "source": []
  }
 ],
 "metadata": {
  "kernelspec": {
   "display_name": "Python 3",
   "language": "python",
   "name": "python3"
  },
  "language_info": {
   "codemirror_mode": {
    "name": "ipython",
    "version": 3
   },
   "file_extension": ".py",
   "mimetype": "text/x-python",
   "name": "python",
   "nbconvert_exporter": "python",
   "pygments_lexer": "ipython3",
   "version": "3.6.4"
  }
 },
 "nbformat": 4,
 "nbformat_minor": 2
}
