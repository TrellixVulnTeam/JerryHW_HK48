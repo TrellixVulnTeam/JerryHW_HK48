{
 "cells": [
  {
   "cell_type": "code",
   "execution_count": null,
   "metadata": {},
   "outputs": [],
   "source": [
    "#0326/source/calculator.py\n",
    "def addnum(a,b):\n",
    "    return('相加:',a+b)\n",
    "def minusnum(a,b):\n",
    "    return('相減:',a-b)\n",
    "def multiplynum(a,b):\n",
    "    return('相乘:',a*b)\n",
    "def divide(a,b):\n",
    "    return('相除:',a/b)\n",
    "        "
   ]
  }
 ],
 "metadata": {
  "kernelspec": {
   "display_name": "Python 3",
   "language": "python",
   "name": "python3"
  },
  "language_info": {
   "codemirror_mode": {
    "name": "ipython",
    "version": 3
   },
   "file_extension": ".py",
   "mimetype": "text/x-python",
   "name": "python",
   "nbconvert_exporter": "python",
   "pygments_lexer": "ipython3",
   "version": "3.6.4"
  }
 },
 "nbformat": 4,
 "nbformat_minor": 2
}
