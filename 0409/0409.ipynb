{
 "cells": [
  {
   "cell_type": "markdown",
   "metadata": {},
   "source": [
    "# HW1"
   ]
  },
  {
   "cell_type": "code",
   "execution_count": 36,
   "metadata": {},
   "outputs": [
    {
     "name": "stdout",
     "output_type": "stream",
     "text": [
      "name: Myshop\n",
      "cook method: Microwave\n",
      "my favorite flavor is  海洋珍珠堡\n",
      "the flavors are:\n",
      "巧克力\n",
      "花生\n",
      "香草\n",
      "草莓\n",
      "五更腸旺\n",
      "海洋珍珠堡\n"
     ]
    }
   ],
   "source": [
    "class restaurant():\n",
    "    def __init__(self):\n",
    "        self.name = 'Myshop'\n",
    "        self.cook = 'Microwave'\n",
    "    \n",
    "    def describe_restaurant(self):\n",
    "        print('name:',self.name)\n",
    "        print('cook method:',self.cook)\n",
    "\n",
    "\n",
    "class icecreamstand(restaurant):\n",
    "    global flavors \n",
    "    flavors = ['巧克力','花生','香草','草莓','五更腸旺','海洋珍珠堡']\n",
    "    def show_flavors(self,fav):\n",
    "        print('my favorite flavor is ',fav)\n",
    "        print('the flavors are:')\n",
    "        for fla in flavors:\n",
    "            print(fla)\n",
    "         \n",
    "myshop = icecreamstand()\n",
    "myshop.describe_restaurant()\n",
    "myshop.show_flavors(\"海洋珍珠堡\")"
   ]
  },
  {
   "cell_type": "code",
   "execution_count": 44,
   "metadata": {},
   "outputs": [
    {
     "name": "stdout",
     "output_type": "stream",
     "text": [
      "go A go!\n",
      "go A go!\n",
      "go B go!\n",
      "go A go!\n",
      "go C go!\n",
      "go A go!\n",
      "go C go!\n",
      "go B go!\n",
      "go D go!\n",
      "go A go!\n",
      "go C go!\n",
      "go B go!\n",
      "stop A stop!\n",
      "stop A stop!\n",
      "stop A stop!\n",
      "stop C stop!\n",
      "stop A stop!\n",
      "stop C stop!\n",
      "stop D stop!\n",
      "stop A stop!\n",
      "stop C stop!\n"
     ]
    },
    {
     "ename": "Exception",
     "evalue": "Not Implemented",
     "output_type": "error",
     "traceback": [
      "\u001b[1;31m---------------------------------------------------------------------------\u001b[0m",
      "\u001b[1;31mException\u001b[0m                                 Traceback (most recent call last)",
      "\u001b[1;32m<ipython-input-44-d49e978ddaa5>\u001b[0m in \u001b[0;36m<module>\u001b[1;34m()\u001b[0m\n\u001b[0;32m     54\u001b[0m \u001b[1;33m\u001b[0m\u001b[0m\n\u001b[0;32m     55\u001b[0m \u001b[1;33m\u001b[0m\u001b[0m\n\u001b[1;32m---> 56\u001b[1;33m \u001b[0ma\u001b[0m\u001b[1;33m.\u001b[0m\u001b[0mpause\u001b[0m\u001b[1;33m(\u001b[0m\u001b[1;33m)\u001b[0m\u001b[1;33m\u001b[0m\u001b[0m\n\u001b[0m\u001b[0;32m     57\u001b[0m \u001b[0mb\u001b[0m\u001b[1;33m.\u001b[0m\u001b[0mpause\u001b[0m\u001b[1;33m(\u001b[0m\u001b[1;33m)\u001b[0m\u001b[1;33m\u001b[0m\u001b[0m\n\u001b[0;32m     58\u001b[0m \u001b[0mc\u001b[0m\u001b[1;33m.\u001b[0m\u001b[0mpause\u001b[0m\u001b[1;33m(\u001b[0m\u001b[1;33m)\u001b[0m\u001b[1;33m\u001b[0m\u001b[0m\n",
      "\u001b[1;32m<ipython-input-44-d49e978ddaa5>\u001b[0m in \u001b[0;36mpause\u001b[1;34m(self)\u001b[0m\n\u001b[0;32m      5\u001b[0m         \u001b[0mprint\u001b[0m \u001b[1;33m(\u001b[0m\u001b[1;34m\"stop A stop!\"\u001b[0m\u001b[1;33m)\u001b[0m\u001b[1;33m\u001b[0m\u001b[0m\n\u001b[0;32m      6\u001b[0m     \u001b[1;32mdef\u001b[0m \u001b[0mpause\u001b[0m\u001b[1;33m(\u001b[0m\u001b[0mself\u001b[0m\u001b[1;33m)\u001b[0m\u001b[1;33m:\u001b[0m\u001b[1;33m\u001b[0m\u001b[0m\n\u001b[1;32m----> 7\u001b[1;33m         \u001b[1;32mraise\u001b[0m \u001b[0mException\u001b[0m\u001b[1;33m(\u001b[0m\u001b[1;34m\"Not Implemented\"\u001b[0m\u001b[1;33m)\u001b[0m\u001b[1;33m\u001b[0m\u001b[0m\n\u001b[0m\u001b[0;32m      8\u001b[0m \u001b[1;33m\u001b[0m\u001b[0m\n\u001b[0;32m      9\u001b[0m \u001b[1;32mclass\u001b[0m \u001b[0mB\u001b[0m\u001b[1;33m(\u001b[0m\u001b[0mA\u001b[0m\u001b[1;33m)\u001b[0m\u001b[1;33m:\u001b[0m\u001b[1;33m\u001b[0m\u001b[0m\n",
      "\u001b[1;31mException\u001b[0m: Not Implemented"
     ]
    }
   ],
   "source": [
    "class A(object): \n",
    "    def go(self): \n",
    "        print (\"go A go!\") \n",
    "    def stop(self): \n",
    "        print (\"stop A stop!\") \n",
    "    def pause(self): \n",
    "        raise Exception(\"Not Implemented\")\n",
    "\n",
    "class B(A): \n",
    "    def go(self): \n",
    "        super(B, self).go() \n",
    "        print (\"go B go!\")\n",
    "\n",
    "class C(A): \n",
    "    def go(self): \n",
    "        super(C, self).go() \n",
    "        print (\"go C go!\")\n",
    "\n",
    "    def stop(self): \n",
    "        super(C, self).stop()\n",
    "        print (\"stop C stop!\") \n",
    "\n",
    "\n",
    "class D(B,C): \n",
    "    def go(self): \n",
    "        super(D, self).go() \n",
    "        print (\"go D go!\")\n",
    "    def stop(self): \n",
    "        super(D, self).stop()\n",
    "        print (\"stop D stop!\") \n",
    "    def pause(self): \n",
    "        print (\"wait D wait!\") \n",
    "\n",
    "class E(B,C):\n",
    "    pass\n",
    "\n",
    "a = A()\n",
    "b = B()\n",
    "c = C()\n",
    "d = D()\n",
    "e = E()\n",
    "a.go() \n",
    "b.go() \n",
    "c.go() \n",
    "d.go() \n",
    "e.go() \n",
    "\n",
    "\n",
    "a.stop()\n",
    "b.stop() \n",
    "c.stop() \n",
    "d.stop() \n",
    "e.stop() \n",
    "\n",
    "\n",
    "a.pause() \n",
    "b.pause() \n",
    "c.pause() \n",
    "d.pause() \n",
    "e.pause()"
   ]
  },
  {
   "cell_type": "code",
   "execution_count": null,
   "metadata": {},
   "outputs": [],
   "source": []
  }
 ],
 "metadata": {
  "kernelspec": {
   "display_name": "Python 3",
   "language": "python",
   "name": "python3"
  },
  "language_info": {
   "codemirror_mode": {
    "name": "ipython",
    "version": 3
   },
   "file_extension": ".py",
   "mimetype": "text/x-python",
   "name": "python",
   "nbconvert_exporter": "python",
   "pygments_lexer": "ipython3",
   "version": "3.6.4"
  }
 },
 "nbformat": 4,
 "nbformat_minor": 2
}
